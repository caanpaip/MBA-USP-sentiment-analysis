{
 "cells": [
  {
   "cell_type": "code",
   "execution_count": 1,
   "metadata": {},
   "outputs": [],
   "source": [
    "%load_ext autoreload\n",
    "%autoreload 2\n",
    "\n",
    "import pandas as pd\n",
    "import os\n",
    "import sys\n",
    "import tiktoken\n",
    "import emoji\n",
    "\n",
    "## add module path\n",
    "sys.path.insert(1, os.path.join( os.getcwd(), \"..\" ) )"
   ]
  },
  {
   "cell_type": "markdown",
   "metadata": {},
   "source": [
    "## tokens counter"
   ]
  },
  {
   "cell_type": "code",
   "execution_count": 2,
   "metadata": {},
   "outputs": [
    {
     "name": "stderr",
     "output_type": "stream",
     "text": [
      "\u001b[32m2025-04-06 21:01:34.789\u001b[0m | \u001b[1mINFO    \u001b[0m | \u001b[36msrc.utils.openaiwrapper.openai_wrapper\u001b[0m:\u001b[36m<module>\u001b[0m:\u001b[36m17\u001b[0m - \u001b[1mUpdate cost from langchain\u001b[0m\n",
      "\u001b[32m2025-04-06 21:01:35.591\u001b[0m | \u001b[1mINFO    \u001b[0m | \u001b[36msrc.utils.openaiwrapper.get_openai_cost\u001b[0m:\u001b[36mextract_and_save_model_cost_data\u001b[0m:\u001b[36m106\u001b[0m - \u001b[1mModel cost data saved to c:\\Users\\caanp\\OneDrive\\MBA\\Repositorio\\GenAI-MBA\\src\\utils\\openaiwrapper\\model_costs.json\u001b[0m\n"
     ]
    }
   ],
   "source": [
    "from src.utils.openaiwrapper.openai_wrapper import token_counter"
   ]
  },
  {
   "cell_type": "code",
   "execution_count": 3,
   "metadata": {},
   "outputs": [
    {
     "data": {
      "text/plain": [
       "[49633, 97, 31643]"
      ]
     },
     "execution_count": 3,
     "metadata": {},
     "output_type": "execute_result"
    }
   ],
   "source": [
    "enc = tiktoken.get_encoding(\"cl100k_base\")\n",
    "\n",
    "hi = enc.encode(\"❤️\")\n",
    "hi"
   ]
  },
  {
   "cell_type": "code",
   "execution_count": 4,
   "metadata": {},
   "outputs": [
    {
     "data": {
      "text/plain": [
       "[b'\\xe2\\x9d', b'\\xa4', b'\\xef\\xb8\\x8f']"
      ]
     },
     "execution_count": 4,
     "metadata": {},
     "output_type": "execute_result"
    }
   ],
   "source": [
    "[enc.decode_single_token_bytes(token) for token in hi]"
   ]
  },
  {
   "cell_type": "markdown",
   "metadata": {},
   "source": [
    "## Compressão usando LZMA"
   ]
  },
  {
   "cell_type": "code",
   "execution_count": null,
   "metadata": {},
   "outputs": [],
   "source": [
    "import lzma\n",
    "\n",
    "def compress_data(input_file, output_file):\n",
    "    with open(input_file, 'rb') as f_in:\n",
    "        with lzma.open(output_file, 'wb', preset = 9) as f_out:\n",
    "            f_out.write(f_in.read())\n",
    "\n",
    "def decompress_data(input_file, output_file):\n",
    "    with lzma.open(input_file, 'rb') as f_in:\n",
    "        with open(output_file, 'wb') as f_out:\n",
    "            f_out.write(f_in.read())\n",
    "\n",
    "# Exemplo de uso\n",
    "compress_data('./../Dados/reviews_train.parquet', './../Dados/reviews_train.parquet.xz')\n",
    "# decompress_data('path/to/input_file.xz', 'path/to/output_file')"
   ]
  },
  {
   "cell_type": "markdown",
   "metadata": {},
   "source": [
    "## Reading ...\n",
    "\n",
    "1. Duplicity check. There are some lines ducplicated\n",
    "\n",
    "Fonte de dados: https://www.kaggle.com/competitions/anlise-de-sentimento-do-google-play/data?select=reviews_train.csv"
   ]
  },
  {
   "cell_type": "code",
   "execution_count": null,
   "metadata": {},
   "outputs": [],
   "source": [
    "## Salvando em formato binário\n",
    "# data = pd.read_csv(\"./../Dados/reviews_train.csv\")\n",
    "# data.to_parquet(\"./../Dados/reviews_train.parquet\", index=False)"
   ]
  },
  {
   "cell_type": "code",
   "execution_count": 5,
   "metadata": {},
   "outputs": [
    {
     "data": {
      "text/plain": [
       "(1010490, 14)"
      ]
     },
     "execution_count": 5,
     "metadata": {},
     "output_type": "execute_result"
    }
   ],
   "source": [
    "data = pd.read_parquet(\"./../Dados/reviews_train.parquet\")\n",
    "data.fillna({\"content\":\"\"}, inplace=True)\n",
    "data.shape"
   ]
  },
  {
   "cell_type": "code",
   "execution_count": 6,
   "metadata": {},
   "outputs": [
    {
     "data": {
      "text/plain": [
       "24"
      ]
     },
     "execution_count": 6,
     "metadata": {},
     "output_type": "execute_result"
    }
   ],
   "source": [
    "## Nulos\n",
    "sum(pd.read_parquet(\"./../Dados/reviews_train.parquet\")[\"content\"].isna())"
   ]
  },
  {
   "cell_type": "code",
   "execution_count": 7,
   "metadata": {},
   "outputs": [],
   "source": [
    "data[\"dup\"] = data.groupby(\"reviewId\")[\"reviewId\"].transform(\"count\")"
   ]
  },
  {
   "cell_type": "code",
   "execution_count": 8,
   "metadata": {},
   "outputs": [
    {
     "data": {
      "application/vnd.microsoft.datawrangler.viewer.v0+json": {
       "columns": [
        {
         "name": "index",
         "rawType": "int64",
         "type": "integer"
        },
        {
         "name": "reviewId",
         "rawType": "object",
         "type": "string"
        }
       ],
       "conversionMethod": "pd.DataFrame",
       "ref": "e2b69546-55b5-475b-9e92-f5d8438d39aa",
       "rows": [
        [
         "43708",
         "00003f3e-6a79-405e-9d4d-a38006d13508"
        ],
        [
         "676308",
         "00006049-4815-47b5-8fb6-92ecd383978e"
        ],
        [
         "718246",
         "0000bef7-16af-4fa8-a337-ca73cee3cfa4"
        ],
        [
         "787984",
         "0000e42e-8066-4359-bdb1-5ac7e82a9744"
        ],
        [
         "714824",
         "0000f8b5-a576-4b56-a49a-0c11aaf9d283"
        ],
        [
         "807095",
         "00015399-e76d-4db4-b380-935fb8894530"
        ],
        [
         "395587",
         "0001ea01-b5c3-44da-ae93-8f8b617f12f5"
        ],
        [
         "605035",
         "00021c87-b2ec-4741-a79e-09b3f9033faf"
        ],
        [
         "135278",
         "000259db-e48a-4b96-b646-27aa8a100246"
        ],
        [
         "18136",
         "0002a0db-df3e-420e-917a-d61f4699dbb2"
        ],
        [
         "124520",
         "0002b741-a75a-45f1-a4fc-e1cf66b7683b"
        ],
        [
         "73771",
         "0002bd1f-9533-42b5-8843-d2fdc157b86c"
        ],
        [
         "520334",
         "00030b26-77bc-411f-9fad-eba5b1da6b2d"
        ],
        [
         "367522",
         "00037a2a-193a-4adc-92d8-35533505b0b3"
        ],
        [
         "92633",
         "00038089-6e47-4509-aced-78a9370bd5ea"
        ],
        [
         "830163",
         "0003e298-e97e-48fc-b9a5-e04372964395"
        ],
        [
         "207727",
         "000409f7-d5b4-4903-affc-07349cd01d39"
        ],
        [
         "592138",
         "0004ef2e-6177-46a5-80a0-7d86a46726c1"
        ],
        [
         "793969",
         "0005103a-12be-4a1b-9c0a-e7079232fe0d"
        ],
        [
         "678415",
         "00051173-4536-4d35-9a99-386574324357"
        ],
        [
         "263777",
         "000512b5-0e4b-491b-ad89-0739e3edb7c1"
        ],
        [
         "584263",
         "00051e83-bf14-4f10-8d27-63fc219fb5de"
        ],
        [
         "774559",
         "00058637-28a5-4c50-8570-674c777f8d2b"
        ],
        [
         "35730",
         "00059d7c-f8bf-40c6-a23c-69f7ced93bf4"
        ],
        [
         "1004119",
         "0005aa3d-ea01-4800-8145-f2c03768b0a3"
        ],
        [
         "493151",
         "00060c1c-3875-4537-be02-99e01a86c064"
        ],
        [
         "600980",
         "0006ac52-c05f-4b3a-af8d-3a083dc3b38c"
        ],
        [
         "705900",
         "0006ef1e-a17a-41ba-ba2d-e909a334aaa4"
        ],
        [
         "621815",
         "00079af0-a000-47d9-b566-2a256c394482"
        ],
        [
         "455298",
         "0007bbed-72e4-474d-b136-c578f0f1983e"
        ],
        [
         "609514",
         "0007f2a2-2dee-4943-9d31-93e72b6a1944"
        ],
        [
         "957131",
         "00081f34-d891-4b7f-adf7-beddf993c56c"
        ],
        [
         "463756",
         "00092aa4-6c76-4f5b-8b4e-a6340d28ad45"
        ],
        [
         "726032",
         "00096a5f-cf34-40ad-a175-e3a8d9ef02af"
        ],
        [
         "92315",
         "0009f57f-4751-4da7-88e7-995b418c4666"
        ],
        [
         "354324",
         "000a486e-1406-4086-af71-a7778ba7b347"
        ],
        [
         "251474",
         "000a4b92-6f03-4b7a-9396-6d264edd687e"
        ],
        [
         "54646",
         "000abcd2-697e-48e4-a7c8-5d4fef17791c"
        ],
        [
         "35700",
         "000abd10-41d0-4292-ad70-4ec8143d0dbb"
        ],
        [
         "494426",
         "000b6f1a-762c-4cc5-8a6e-d104f7de59f5"
        ],
        [
         "942173",
         "000bc044-9940-42fc-8eab-45491e96ca03"
        ],
        [
         "779656",
         "000bd167-03bb-4da2-abb7-fcb60997196d"
        ],
        [
         "365703",
         "000bd58d-251d-4d6b-98f4-4a0532d37409"
        ],
        [
         "730964",
         "000be944-35ee-4d61-93d3-953aa92313df"
        ],
        [
         "471356",
         "000bf01c-c707-41d3-81a1-33d656d77871"
        ],
        [
         "957900",
         "000bf501-3fb1-46ba-9369-3b9a62e5cb04"
        ],
        [
         "122101",
         "000c4aaa-372f-4565-adcc-1fc2e568fa65"
        ],
        [
         "613361",
         "000c5e14-6fad-4bec-8802-2f550f902282"
        ],
        [
         "859565",
         "000c67ba-8354-4ab7-a067-a579aa037e1a"
        ],
        [
         "607353",
         "000ca4cf-f1bb-4eae-a95f-29c95b95636a"
        ]
       ],
       "shape": {
        "columns": 1,
        "rows": 281139
       }
      },
      "text/html": [
       "<div>\n",
       "<style scoped>\n",
       "    .dataframe tbody tr th:only-of-type {\n",
       "        vertical-align: middle;\n",
       "    }\n",
       "\n",
       "    .dataframe tbody tr th {\n",
       "        vertical-align: top;\n",
       "    }\n",
       "\n",
       "    .dataframe thead th {\n",
       "        text-align: right;\n",
       "    }\n",
       "</style>\n",
       "<table border=\"1\" class=\"dataframe\">\n",
       "  <thead>\n",
       "    <tr style=\"text-align: right;\">\n",
       "      <th></th>\n",
       "      <th>reviewId</th>\n",
       "    </tr>\n",
       "  </thead>\n",
       "  <tbody>\n",
       "    <tr>\n",
       "      <th>43708</th>\n",
       "      <td>00003f3e-6a79-405e-9d4d-a38006d13508</td>\n",
       "    </tr>\n",
       "    <tr>\n",
       "      <th>676308</th>\n",
       "      <td>00006049-4815-47b5-8fb6-92ecd383978e</td>\n",
       "    </tr>\n",
       "    <tr>\n",
       "      <th>718246</th>\n",
       "      <td>0000bef7-16af-4fa8-a337-ca73cee3cfa4</td>\n",
       "    </tr>\n",
       "    <tr>\n",
       "      <th>787984</th>\n",
       "      <td>0000e42e-8066-4359-bdb1-5ac7e82a9744</td>\n",
       "    </tr>\n",
       "    <tr>\n",
       "      <th>714824</th>\n",
       "      <td>0000f8b5-a576-4b56-a49a-0c11aaf9d283</td>\n",
       "    </tr>\n",
       "    <tr>\n",
       "      <th>...</th>\n",
       "      <td>...</td>\n",
       "    </tr>\n",
       "    <tr>\n",
       "      <th>592032</th>\n",
       "      <td>ffff7f38-9725-4a76-9671-73d01022f886</td>\n",
       "    </tr>\n",
       "    <tr>\n",
       "      <th>703468</th>\n",
       "      <td>ffff9275-f662-440a-9218-ab9845ce300b</td>\n",
       "    </tr>\n",
       "    <tr>\n",
       "      <th>774936</th>\n",
       "      <td>ffff993f-0049-4650-bb56-1b5e510c4800</td>\n",
       "    </tr>\n",
       "    <tr>\n",
       "      <th>743647</th>\n",
       "      <td>ffffe9ad-a9f6-4410-8966-2f972a102abf</td>\n",
       "    </tr>\n",
       "    <tr>\n",
       "      <th>489454</th>\n",
       "      <td>fffffccb-be85-4417-86e8-a4c63ce21182</td>\n",
       "    </tr>\n",
       "  </tbody>\n",
       "</table>\n",
       "<p>281139 rows × 1 columns</p>\n",
       "</div>"
      ],
      "text/plain": [
       "                                    reviewId\n",
       "43708   00003f3e-6a79-405e-9d4d-a38006d13508\n",
       "676308  00006049-4815-47b5-8fb6-92ecd383978e\n",
       "718246  0000bef7-16af-4fa8-a337-ca73cee3cfa4\n",
       "787984  0000e42e-8066-4359-bdb1-5ac7e82a9744\n",
       "714824  0000f8b5-a576-4b56-a49a-0c11aaf9d283\n",
       "...                                      ...\n",
       "592032  ffff7f38-9725-4a76-9671-73d01022f886\n",
       "703468  ffff9275-f662-440a-9218-ab9845ce300b\n",
       "774936  ffff993f-0049-4650-bb56-1b5e510c4800\n",
       "743647  ffffe9ad-a9f6-4410-8966-2f972a102abf\n",
       "489454  fffffccb-be85-4417-86e8-a4c63ce21182\n",
       "\n",
       "[281139 rows x 1 columns]"
      ]
     },
     "execution_count": 8,
     "metadata": {},
     "output_type": "execute_result"
    }
   ],
   "source": [
    "data[data[\"dup\"]>1].sort_values(\"reviewId\")[[\"reviewId\"]].drop_duplicates()"
   ]
  },
  {
   "cell_type": "code",
   "execution_count": 9,
   "metadata": {},
   "outputs": [
    {
     "data": {
      "text/plain": [
       "Index(['reviewId', 'userName', 'userImage', 'content', 'score',\n",
       "       'thumbsUpCount', 'reviewCreatedVersion', 'at', 'replyContent',\n",
       "       'repliedAt', 'appVersion', 'sortOrder', 'appId', 'sentiment', 'dup'],\n",
       "      dtype='object')"
      ]
     },
     "execution_count": 9,
     "metadata": {},
     "output_type": "execute_result"
    }
   ],
   "source": [
    "data.columns"
   ]
  },
  {
   "cell_type": "code",
   "execution_count": 10,
   "metadata": {},
   "outputs": [
    {
     "data": {
      "text/plain": [
       "(Timestamp('2013-07-24 09:48:19'), Timestamp('2023-09-26 20:43:38'))"
      ]
     },
     "execution_count": 10,
     "metadata": {},
     "output_type": "execute_result"
    }
   ],
   "source": [
    "pd.to_datetime(data[\"at\"]).min(), pd.to_datetime(data[\"at\"]).max()"
   ]
  },
  {
   "cell_type": "markdown",
   "metadata": {},
   "source": [
    "## 1. Fields to Exploratory Analysis\n",
    "\n",
    "The Reviews in google play store are limited to 350 characters. In the answer.\n",
    "\n",
    "- Fields selection.\n",
    "- Remove duplicates.\n",
    "\n",
    "### 1.1 sentiment <br>\n",
    "\n",
    "- the \"sentiment\" field is defined by \"the score\" field (stars).\n",
    "    - 0 (Negative): 1 ou 2 stars\n",
    "    - 1 (Neutral): 3 stars\n",
    "    - 2 (Positive): 4 ou 5 stars\n",
    "<br>\n",
    "> however, there may be revies with text expressing negative sentiment tha have 4 or 5 stars<br>\n",
    ">> - Ex: ReviewId='3d3c0447-f012-4dec-a757-df8f310a9ee7<br><br>\n",
    "       `Dei 5 entrela para fica em primeiro\"Horrivel vendi o produto to tentando receber nao libera meu dinheiro ,demora pra liberar, e ainda eles diz q vou receber o valor por parte, se for asim eu entregava o produto por parte entao affs vou procurar meus diretos ... Pq nao e bem asim que funsona se eu vendi pq eu preciso do produto . se fosse pra mim receber por parte tinha entregado as coisas por parte ... Quero meu dinheiro liberado pq vou procura meus direito`\n",
    "\n",
    "<br>\n",
    "\n",
    "- There are some reviews with thumb (👍) or heart face (😍) but with 1,2 and 3 stars which correspond to negative and neutral sentiment."
   ]
  },
  {
   "cell_type": "code",
   "execution_count": 11,
   "metadata": {},
   "outputs": [],
   "source": [
    "from src.utils.ea.exp_funcs import  emojis_extractions"
   ]
  },
  {
   "cell_type": "markdown",
   "metadata": {},
   "source": [
    "#### Pricing"
   ]
  },
  {
   "cell_type": "code",
   "execution_count": null,
   "metadata": {},
   "outputs": [
    {
     "data": {
      "text/plain": [
       "((729349, 21), (1010490, 15))"
      ]
     },
     "execution_count": 12,
     "metadata": {},
     "output_type": "execute_result"
    }
   ],
   "source": [
    "## remove duplicates\n",
    "dados = data[[\"reviewId\",\"at\",\"content\",\"score\",\"reviewCreatedVersion\",\"replyContent\",\"repliedAt\",\"appVersion\",\"appId\",\"sentiment\"]].drop_duplicates()\n",
    "dados[\"qtd_tokens\"] = dados[\"content\"].apply(lambda x: token_counter(x))\n",
    "dados[\"qtd_characters\"] = dados[\"content\"].apply(lambda x: len(x))\n",
    "dados[\"qtd_words\"] = dados[\"content\"].apply(lambda x: len(x.split()))\n",
    "dados[\"list_emojis\"] = dados[\"content\"].apply(lambda x: emojis_extractions(x) )\n",
    "dados[\"qtd_emojis\"] = dados[\"list_emojis\"].apply(lambda x: len(x))\n",
    "dados[\"with_emojis\"] = dados[\"qtd_emojis\"].apply(lambda x: True if x>0 else False)\n",
    "\n",
    "## Pricing\n",
    "one_million = 1000000\n",
    "dados[\"input_$_gpt_35\"] = dados[\"qtd_tokens\"]*0.5/one_million\n",
    "dados[\"input_$_gpt_4o\"] = dados[\"qtd_tokens\"]*2.5/one_million ## modelo na versão mais recente\n",
    "# dados[\"input_$_gpt_4o\"] = dados[\"qtd_tokens\"]*5/one_million\n",
    "dados[\"input_$_gpt_4o-mini\"] = dados[\"qtd_tokens\"]*0.15/one_million\n",
    "dados[\"input_$_gpt_4_turbo\"] = dados[\"qtd_tokens\"]*10/one_million\n",
    "dados[\"input_$_gpt_4\"] = dados[\"qtd_tokens\"]*30/one_million\n",
    "\n",
    "\n",
    "## Saving\n",
    "dados.to_parquet(\"./../Dados/reviews_train_EA.parquet\", index=False)\n",
    "\n",
    "dados.shape, data.shape"
   ]
  },
  {
   "cell_type": "code",
   "execution_count": 13,
   "metadata": {},
   "outputs": [
    {
     "data": {
      "text/plain": [
       "appId\n",
       "com.mercadolibre                       98007\n",
       "com.shopee.br                          95797\n",
       "com.schibsted.bomnegocio.androidApp    84463\n",
       "com.luizalabs.mlapp                    81605\n",
       "com.b2w.americanas                     80826\n",
       "com.alibaba.aliexpresshd               78433\n",
       "com.zzkko                              64780\n",
       "com.novapontocom.casasbahia            63128\n",
       "br.com.enjoei.app                      50682\n",
       "com.amazon.mShop.android.shopping      31628\n",
       "Name: count, dtype: int64"
      ]
     },
     "execution_count": 13,
     "metadata": {},
     "output_type": "execute_result"
    }
   ],
   "source": [
    "dados[\"appId\"].value_counts(dropna=False)"
   ]
  },
  {
   "cell_type": "code",
   "execution_count": 14,
   "metadata": {},
   "outputs": [
    {
     "data": {
      "text/plain": [
       "211203    344\n",
       "211204    359\n",
       "211205    497\n",
       "211206    364\n",
       "211207    497\n",
       "         ... \n",
       "331198    178\n",
       "331199     40\n",
       "331200      9\n",
       "331201     24\n",
       "331202     16\n",
       "Name: content, Length: 120000, dtype: int64"
      ]
     },
     "execution_count": 14,
     "metadata": {},
     "output_type": "execute_result"
    }
   ],
   "source": [
    "data.query(f\"appId=='com.mercadolibre'\")[\"content\"].str.len()"
   ]
  },
  {
   "cell_type": "code",
   "execution_count": 15,
   "metadata": {},
   "outputs": [
    {
     "data": {
      "text/plain": [
       "score  sentiment\n",
       "3      1            266724\n",
       "5      2            200000\n",
       "1      0            199950\n",
       "4      2            184670\n",
       "2      0            159146\n",
       "Name: count, dtype: int64"
      ]
     },
     "execution_count": 15,
     "metadata": {},
     "output_type": "execute_result"
    }
   ],
   "source": [
    "data[[\"score\",\"sentiment\",]].value_counts()"
   ]
  },
  {
   "cell_type": "code",
   "execution_count": 16,
   "metadata": {},
   "outputs": [
    {
     "data": {
      "application/vnd.microsoft.datawrangler.viewer.v0+json": {
       "columns": [
        {
         "name": "index",
         "rawType": "int64",
         "type": "integer"
        },
        {
         "name": "reviewId",
         "rawType": "object",
         "type": "string"
        },
        {
         "name": "userName",
         "rawType": "object",
         "type": "string"
        },
        {
         "name": "userImage",
         "rawType": "object",
         "type": "string"
        },
        {
         "name": "content",
         "rawType": "object",
         "type": "string"
        },
        {
         "name": "score",
         "rawType": "int64",
         "type": "integer"
        },
        {
         "name": "thumbsUpCount",
         "rawType": "int64",
         "type": "integer"
        },
        {
         "name": "reviewCreatedVersion",
         "rawType": "object",
         "type": "string"
        },
        {
         "name": "at",
         "rawType": "object",
         "type": "string"
        },
        {
         "name": "replyContent",
         "rawType": "object",
         "type": "unknown"
        },
        {
         "name": "repliedAt",
         "rawType": "object",
         "type": "unknown"
        },
        {
         "name": "appVersion",
         "rawType": "object",
         "type": "string"
        },
        {
         "name": "sortOrder",
         "rawType": "object",
         "type": "string"
        },
        {
         "name": "appId",
         "rawType": "object",
         "type": "string"
        },
        {
         "name": "sentiment",
         "rawType": "int64",
         "type": "integer"
        },
        {
         "name": "dup",
         "rawType": "int64",
         "type": "integer"
        }
       ],
       "conversionMethod": "pd.DataFrame",
       "ref": "f2e5629a-e59e-4074-9711-b5b3fabcd697",
       "rows": [
        [
         "30626",
         "71d23587-713d-4d13-b397-78540025aaff",
         "Isabella de Almeida Carvalho",
         "https://play-lh.googleusercontent.com/a-/ALV-UjXuC3MnIJKnCgIJDvl0XdVgm_npWDbh5D1qX4ZCR5zRUAs",
         "O app é realmente muito bom, utilizo ele a mais de 1 ano e atende a todas minhas expectativas, porém novamente é perceptível uma diferença quando tratamos de localização. Podemos perceber essa diferença quando algumas coleções incrível por sinal, não estão disponíveis em certos países, como o meu. Isso realmente me entristece pois é algo que eu quero a muito tempo (como por exemplo a coleção em colaboração com hello kitty) enfim, acredito que tirando isso o app é muito bom, só que decepcionante.",
         "3",
         "14485",
         "8.3.4",
         "2022-07-28 18:38:42",
         null,
         null,
         "8.3.4",
         "most_relevant",
         "com.zzkko",
         "1",
         "2"
        ],
        [
         "30627",
         "60080999-ff54-4faa-adcc-044d5fd4443a",
         "Vaniele Guimaraes do Val",
         "https://play-lh.googleusercontent.com/a-/ALV-UjWSTjkSJoHz21E3R2-Ue-aF2CQ3PNIdt2SLDJFs34nRVm2S",
         "Pagar fretes diferentes para entrega de uma mesma compra é um ponto negativo. Outro ponto negativo é a forma em que aparecem os produtos. O algoritmo deles atrapalha muito escolher os produtos. Facilitaria se aparecessem, por exemplo, todos os vestidos, mas eles te mostram apenas alguns, e se por acaso você seleciona um modelo aí que começam a aparecer mais opções daquele tipo/estilo (o problema é você clicar em alguma coisa que não gosta sem querer, porque aquilo vai te perseguir pra sempre).",
         "3",
         "13968",
         "8.6.8",
         "2022-11-10 08:15:35",
         "Olá, obrigada pela sua avaliação. Caso tenha algum problema, não hesite em contactar connosco via opção de suportar em APP. Por favor, clique \"mim\"-→suportar-→serviço ao cliente e depois insira【Fala com agente】e entregue um bilhete para nós. Estamos sempre dispostos em servi-lo.",
         "2022-11-10 23:22:51",
         "8.6.8",
         "most_relevant",
         "com.zzkko",
         "1",
         "2"
        ]
       ],
       "shape": {
        "columns": 15,
        "rows": 2
       }
      },
      "text/html": [
       "<div>\n",
       "<style scoped>\n",
       "    .dataframe tbody tr th:only-of-type {\n",
       "        vertical-align: middle;\n",
       "    }\n",
       "\n",
       "    .dataframe tbody tr th {\n",
       "        vertical-align: top;\n",
       "    }\n",
       "\n",
       "    .dataframe thead th {\n",
       "        text-align: right;\n",
       "    }\n",
       "</style>\n",
       "<table border=\"1\" class=\"dataframe\">\n",
       "  <thead>\n",
       "    <tr style=\"text-align: right;\">\n",
       "      <th></th>\n",
       "      <th>reviewId</th>\n",
       "      <th>userName</th>\n",
       "      <th>userImage</th>\n",
       "      <th>content</th>\n",
       "      <th>score</th>\n",
       "      <th>thumbsUpCount</th>\n",
       "      <th>reviewCreatedVersion</th>\n",
       "      <th>at</th>\n",
       "      <th>replyContent</th>\n",
       "      <th>repliedAt</th>\n",
       "      <th>appVersion</th>\n",
       "      <th>sortOrder</th>\n",
       "      <th>appId</th>\n",
       "      <th>sentiment</th>\n",
       "      <th>dup</th>\n",
       "    </tr>\n",
       "  </thead>\n",
       "  <tbody>\n",
       "    <tr>\n",
       "      <th>30626</th>\n",
       "      <td>71d23587-713d-4d13-b397-78540025aaff</td>\n",
       "      <td>Isabella de Almeida Carvalho</td>\n",
       "      <td>https://play-lh.googleusercontent.com/a-/ALV-U...</td>\n",
       "      <td>O app é realmente muito bom, utilizo ele a mai...</td>\n",
       "      <td>3</td>\n",
       "      <td>14485</td>\n",
       "      <td>8.3.4</td>\n",
       "      <td>2022-07-28 18:38:42</td>\n",
       "      <td>None</td>\n",
       "      <td>None</td>\n",
       "      <td>8.3.4</td>\n",
       "      <td>most_relevant</td>\n",
       "      <td>com.zzkko</td>\n",
       "      <td>1</td>\n",
       "      <td>2</td>\n",
       "    </tr>\n",
       "    <tr>\n",
       "      <th>30627</th>\n",
       "      <td>60080999-ff54-4faa-adcc-044d5fd4443a</td>\n",
       "      <td>Vaniele Guimaraes do Val</td>\n",
       "      <td>https://play-lh.googleusercontent.com/a-/ALV-U...</td>\n",
       "      <td>Pagar fretes diferentes para entrega de uma me...</td>\n",
       "      <td>3</td>\n",
       "      <td>13968</td>\n",
       "      <td>8.6.8</td>\n",
       "      <td>2022-11-10 08:15:35</td>\n",
       "      <td>Olá, obrigada pela sua avaliação. Caso tenha a...</td>\n",
       "      <td>2022-11-10 23:22:51</td>\n",
       "      <td>8.6.8</td>\n",
       "      <td>most_relevant</td>\n",
       "      <td>com.zzkko</td>\n",
       "      <td>1</td>\n",
       "      <td>2</td>\n",
       "    </tr>\n",
       "  </tbody>\n",
       "</table>\n",
       "</div>"
      ],
      "text/plain": [
       "                                   reviewId                      userName  \\\n",
       "30626  71d23587-713d-4d13-b397-78540025aaff  Isabella de Almeida Carvalho   \n",
       "30627  60080999-ff54-4faa-adcc-044d5fd4443a      Vaniele Guimaraes do Val   \n",
       "\n",
       "                                               userImage  \\\n",
       "30626  https://play-lh.googleusercontent.com/a-/ALV-U...   \n",
       "30627  https://play-lh.googleusercontent.com/a-/ALV-U...   \n",
       "\n",
       "                                                 content  score  \\\n",
       "30626  O app é realmente muito bom, utilizo ele a mai...      3   \n",
       "30627  Pagar fretes diferentes para entrega de uma me...      3   \n",
       "\n",
       "       thumbsUpCount reviewCreatedVersion                   at  \\\n",
       "30626          14485                8.3.4  2022-07-28 18:38:42   \n",
       "30627          13968                8.6.8  2022-11-10 08:15:35   \n",
       "\n",
       "                                            replyContent            repliedAt  \\\n",
       "30626                                               None                 None   \n",
       "30627  Olá, obrigada pela sua avaliação. Caso tenha a...  2022-11-10 23:22:51   \n",
       "\n",
       "      appVersion      sortOrder      appId  sentiment  dup  \n",
       "30626      8.3.4  most_relevant  com.zzkko          1    2  \n",
       "30627      8.6.8  most_relevant  com.zzkko          1    2  "
      ]
     },
     "execution_count": 16,
     "metadata": {},
     "output_type": "execute_result"
    }
   ],
   "source": [
    "data[data[\"sentiment\"]==1].head(2)"
   ]
  },
  {
   "cell_type": "code",
   "execution_count": 17,
   "metadata": {},
   "outputs": [
    {
     "data": {
      "text/plain": [
       "score\n",
       "5    19\n",
       "4    12\n",
       "3    11\n",
       "1     3\n",
       "2     3\n",
       "Name: count, dtype: int64"
      ]
     },
     "execution_count": 17,
     "metadata": {},
     "output_type": "execute_result"
    }
   ],
   "source": [
    "joinha = dados.query(\"content=='😍'\").reset_index(drop=True)\n",
    "\n",
    "joinha[\"score\"].value_counts(dropna=False)"
   ]
  },
  {
   "cell_type": "code",
   "execution_count": 18,
   "metadata": {},
   "outputs": [
    {
     "data": {
      "text/plain": [
       "score\n",
       "4    117\n",
       "5    103\n",
       "3     90\n",
       "2     12\n",
       "1      3\n",
       "Name: count, dtype: int64"
      ]
     },
     "execution_count": 18,
     "metadata": {},
     "output_type": "execute_result"
    }
   ],
   "source": [
    "joinha = dados.query(\"content=='👍'\").reset_index(drop=True)\n",
    "\n",
    "joinha[\"score\"].value_counts(dropna=False)"
   ]
  },
  {
   "cell_type": "markdown",
   "metadata": {},
   "source": [
    "# 2. Sampling\n",
    "\n",
    "For sampling the data, an analysis of the review is required. This analysis will be done using PowerBI.\n",
    "\n",
    "> **Strategy** <br>\n",
    "> - Analize OpenAI cost by model\n",
    "> - Analize text using the total tokens, total characters and total words.\n",
    "> - Select and sample the text using stratify sampling by sentiment score.\n",
    "\n",
    "\n",
    "<br>\n",
    "\n",
    "> **EA Results** <br>\n",
    "> - There are some texts with a large total tokens, for example, 20 tokens, but they do not have words, so they are emojis.\n",
    "> - A Emoji or sequence of Emoji represent a single word, however these can be represented by more than one token.\n",
    "\n",
    "<br>\n",
    "\n",
    "> **Filter** <br>\n",
    "> - The best approach to sampling the data is to use the number of word in the reviews.\n",
    "> - Filter by appId. Select the mercado livre reviews, as it has the most reviews.\n",
    "> - Sampling data by text with more than one word\n",
    "\n"
   ]
  },
  {
   "cell_type": "code",
   "execution_count": 19,
   "metadata": {},
   "outputs": [],
   "source": [
    "\n",
    "\n",
    "from src.utils.sample_process.sampling import Sampling\n"
   ]
  },
  {
   "cell_type": "markdown",
   "metadata": {},
   "source": [
    "### 2.1 Filter"
   ]
  },
  {
   "cell_type": "code",
   "execution_count": 20,
   "metadata": {},
   "outputs": [],
   "source": [
    "mercado_livre = dados.query(\"appId=='com.mercadolibre' and qtd_words>0\")"
   ]
  },
  {
   "cell_type": "code",
   "execution_count": 21,
   "metadata": {},
   "outputs": [
    {
     "data": {
      "text/plain": [
       "(Timestamp('2018-09-12 08:13:02'), Timestamp('2023-09-26 20:00:02'))"
      ]
     },
     "execution_count": 21,
     "metadata": {},
     "output_type": "execute_result"
    }
   ],
   "source": [
    "pd.to_datetime(mercado_livre[\"at\"]).min(), pd.to_datetime(mercado_livre[\"at\"]).max()"
   ]
  },
  {
   "cell_type": "code",
   "execution_count": 22,
   "metadata": {},
   "outputs": [],
   "source": [
    "sample_10 = Sampling(mercado_livre, random_state = 0).stratified_sample(column=\"score\").reset_index(drop=True)\n",
    "sample_1 = Sampling(mercado_livre, perc=0.01, random_state = 0 ).stratified_sample(column=\"score\").reset_index(drop=True)"
   ]
  },
  {
   "cell_type": "code",
   "execution_count": 23,
   "metadata": {},
   "outputs": [
    {
     "data": {
      "text/plain": [
       "(98006, 9799, 978)"
      ]
     },
     "execution_count": 23,
     "metadata": {},
     "output_type": "execute_result"
    }
   ],
   "source": [
    "mercado_livre.shape[0], sample_10.shape[0], sample_1.shape[0]"
   ]
  },
  {
   "cell_type": "code",
   "execution_count": 24,
   "metadata": {},
   "outputs": [
    {
     "data": {
      "application/vnd.microsoft.datawrangler.viewer.v0+json": {
       "columns": [
        {
         "name": "index",
         "rawType": "int64",
         "type": "integer"
        },
        {
         "name": "score",
         "rawType": "int64",
         "type": "integer"
        },
        {
         "name": "proportion",
         "rawType": "float64",
         "type": "float"
        },
        {
         "name": "count",
         "rawType": "int64",
         "type": "integer"
        }
       ],
       "conversionMethod": "pd.DataFrame",
       "ref": "16ffe139-49a9-4366-8457-845748b7e2d5",
       "rows": [
        [
         "0",
         "3",
         "0.3086545721690509",
         "30250"
        ],
        [
         "1",
         "5",
         "0.18581515417423422",
         "18211"
        ],
        [
         "2",
         "4",
         "0.1780503234495847",
         "17450"
        ],
        [
         "3",
         "1",
         "0.16678570699753076",
         "16346"
        ],
        [
         "4",
         "2",
         "0.1606942432095994",
         "15749"
        ]
       ],
       "shape": {
        "columns": 3,
        "rows": 5
       }
      },
      "text/html": [
       "<div>\n",
       "<style scoped>\n",
       "    .dataframe tbody tr th:only-of-type {\n",
       "        vertical-align: middle;\n",
       "    }\n",
       "\n",
       "    .dataframe tbody tr th {\n",
       "        vertical-align: top;\n",
       "    }\n",
       "\n",
       "    .dataframe thead th {\n",
       "        text-align: right;\n",
       "    }\n",
       "</style>\n",
       "<table border=\"1\" class=\"dataframe\">\n",
       "  <thead>\n",
       "    <tr style=\"text-align: right;\">\n",
       "      <th></th>\n",
       "      <th>score</th>\n",
       "      <th>proportion</th>\n",
       "      <th>count</th>\n",
       "    </tr>\n",
       "  </thead>\n",
       "  <tbody>\n",
       "    <tr>\n",
       "      <th>0</th>\n",
       "      <td>3</td>\n",
       "      <td>0.308655</td>\n",
       "      <td>30250</td>\n",
       "    </tr>\n",
       "    <tr>\n",
       "      <th>1</th>\n",
       "      <td>5</td>\n",
       "      <td>0.185815</td>\n",
       "      <td>18211</td>\n",
       "    </tr>\n",
       "    <tr>\n",
       "      <th>2</th>\n",
       "      <td>4</td>\n",
       "      <td>0.178050</td>\n",
       "      <td>17450</td>\n",
       "    </tr>\n",
       "    <tr>\n",
       "      <th>3</th>\n",
       "      <td>1</td>\n",
       "      <td>0.166786</td>\n",
       "      <td>16346</td>\n",
       "    </tr>\n",
       "    <tr>\n",
       "      <th>4</th>\n",
       "      <td>2</td>\n",
       "      <td>0.160694</td>\n",
       "      <td>15749</td>\n",
       "    </tr>\n",
       "  </tbody>\n",
       "</table>\n",
       "</div>"
      ],
      "text/plain": [
       "   score  proportion  count\n",
       "0      3    0.308655  30250\n",
       "1      5    0.185815  18211\n",
       "2      4    0.178050  17450\n",
       "3      1    0.166786  16346\n",
       "4      2    0.160694  15749"
      ]
     },
     "execution_count": 24,
     "metadata": {},
     "output_type": "execute_result"
    }
   ],
   "source": [
    "mercado_livre[\"score\"].value_counts(normalize=True).reset_index()\\\n",
    ".merge(mercado_livre[\"score\"].value_counts().reset_index(), on= \"score\")"
   ]
  },
  {
   "cell_type": "code",
   "execution_count": 25,
   "metadata": {},
   "outputs": [
    {
     "data": {
      "application/vnd.microsoft.datawrangler.viewer.v0+json": {
       "columns": [
        {
         "name": "index",
         "rawType": "int64",
         "type": "integer"
        },
        {
         "name": "score",
         "rawType": "int64",
         "type": "integer"
        },
        {
         "name": "proportion",
         "rawType": "float64",
         "type": "float"
        },
        {
         "name": "count",
         "rawType": "int64",
         "type": "integer"
        }
       ],
       "conversionMethod": "pd.DataFrame",
       "ref": "c3dfe5e6-9f1d-4347-8172-18f085f719be",
       "rows": [
        [
         "0",
         "3",
         "0.3087049698948872",
         "3025"
        ],
        [
         "1",
         "5",
         "0.18583528931523624",
         "1821"
        ],
        [
         "2",
         "4",
         "0.17807939585672009",
         "1745"
        ],
        [
         "3",
         "1",
         "0.16675170935809777",
         "1634"
        ],
        [
         "4",
         "2",
         "0.1606286355750587",
         "1574"
        ]
       ],
       "shape": {
        "columns": 3,
        "rows": 5
       }
      },
      "text/html": [
       "<div>\n",
       "<style scoped>\n",
       "    .dataframe tbody tr th:only-of-type {\n",
       "        vertical-align: middle;\n",
       "    }\n",
       "\n",
       "    .dataframe tbody tr th {\n",
       "        vertical-align: top;\n",
       "    }\n",
       "\n",
       "    .dataframe thead th {\n",
       "        text-align: right;\n",
       "    }\n",
       "</style>\n",
       "<table border=\"1\" class=\"dataframe\">\n",
       "  <thead>\n",
       "    <tr style=\"text-align: right;\">\n",
       "      <th></th>\n",
       "      <th>score</th>\n",
       "      <th>proportion</th>\n",
       "      <th>count</th>\n",
       "    </tr>\n",
       "  </thead>\n",
       "  <tbody>\n",
       "    <tr>\n",
       "      <th>0</th>\n",
       "      <td>3</td>\n",
       "      <td>0.308705</td>\n",
       "      <td>3025</td>\n",
       "    </tr>\n",
       "    <tr>\n",
       "      <th>1</th>\n",
       "      <td>5</td>\n",
       "      <td>0.185835</td>\n",
       "      <td>1821</td>\n",
       "    </tr>\n",
       "    <tr>\n",
       "      <th>2</th>\n",
       "      <td>4</td>\n",
       "      <td>0.178079</td>\n",
       "      <td>1745</td>\n",
       "    </tr>\n",
       "    <tr>\n",
       "      <th>3</th>\n",
       "      <td>1</td>\n",
       "      <td>0.166752</td>\n",
       "      <td>1634</td>\n",
       "    </tr>\n",
       "    <tr>\n",
       "      <th>4</th>\n",
       "      <td>2</td>\n",
       "      <td>0.160629</td>\n",
       "      <td>1574</td>\n",
       "    </tr>\n",
       "  </tbody>\n",
       "</table>\n",
       "</div>"
      ],
      "text/plain": [
       "   score  proportion  count\n",
       "0      3    0.308705   3025\n",
       "1      5    0.185835   1821\n",
       "2      4    0.178079   1745\n",
       "3      1    0.166752   1634\n",
       "4      2    0.160629   1574"
      ]
     },
     "execution_count": 25,
     "metadata": {},
     "output_type": "execute_result"
    }
   ],
   "source": [
    "sample_10[\"score\"].value_counts(normalize=True).reset_index()\\\n",
    ".merge(sample_10[\"score\"].value_counts().reset_index(), on= \"score\")"
   ]
  },
  {
   "cell_type": "code",
   "execution_count": 26,
   "metadata": {},
   "outputs": [
    {
     "data": {
      "application/vnd.microsoft.datawrangler.viewer.v0+json": {
       "columns": [
        {
         "name": "index",
         "rawType": "int64",
         "type": "integer"
        },
        {
         "name": "score",
         "rawType": "int64",
         "type": "integer"
        },
        {
         "name": "proportion",
         "rawType": "float64",
         "type": "float"
        },
        {
         "name": "count",
         "rawType": "int64",
         "type": "integer"
        }
       ],
       "conversionMethod": "pd.DataFrame",
       "ref": "0bba2cb3-f784-4897-ac6d-02b55ad59e91",
       "rows": [
        [
         "0",
         "3",
         "0.30879345603271985",
         "302"
        ],
        [
         "1",
         "5",
         "0.18609406952965235",
         "182"
        ],
        [
         "2",
         "4",
         "0.17791411042944785",
         "174"
        ],
        [
         "3",
         "1",
         "0.16666666666666666",
         "163"
        ],
        [
         "4",
         "2",
         "0.1605316973415133",
         "157"
        ]
       ],
       "shape": {
        "columns": 3,
        "rows": 5
       }
      },
      "text/html": [
       "<div>\n",
       "<style scoped>\n",
       "    .dataframe tbody tr th:only-of-type {\n",
       "        vertical-align: middle;\n",
       "    }\n",
       "\n",
       "    .dataframe tbody tr th {\n",
       "        vertical-align: top;\n",
       "    }\n",
       "\n",
       "    .dataframe thead th {\n",
       "        text-align: right;\n",
       "    }\n",
       "</style>\n",
       "<table border=\"1\" class=\"dataframe\">\n",
       "  <thead>\n",
       "    <tr style=\"text-align: right;\">\n",
       "      <th></th>\n",
       "      <th>score</th>\n",
       "      <th>proportion</th>\n",
       "      <th>count</th>\n",
       "    </tr>\n",
       "  </thead>\n",
       "  <tbody>\n",
       "    <tr>\n",
       "      <th>0</th>\n",
       "      <td>3</td>\n",
       "      <td>0.308793</td>\n",
       "      <td>302</td>\n",
       "    </tr>\n",
       "    <tr>\n",
       "      <th>1</th>\n",
       "      <td>5</td>\n",
       "      <td>0.186094</td>\n",
       "      <td>182</td>\n",
       "    </tr>\n",
       "    <tr>\n",
       "      <th>2</th>\n",
       "      <td>4</td>\n",
       "      <td>0.177914</td>\n",
       "      <td>174</td>\n",
       "    </tr>\n",
       "    <tr>\n",
       "      <th>3</th>\n",
       "      <td>1</td>\n",
       "      <td>0.166667</td>\n",
       "      <td>163</td>\n",
       "    </tr>\n",
       "    <tr>\n",
       "      <th>4</th>\n",
       "      <td>2</td>\n",
       "      <td>0.160532</td>\n",
       "      <td>157</td>\n",
       "    </tr>\n",
       "  </tbody>\n",
       "</table>\n",
       "</div>"
      ],
      "text/plain": [
       "   score  proportion  count\n",
       "0      3    0.308793    302\n",
       "1      5    0.186094    182\n",
       "2      4    0.177914    174\n",
       "3      1    0.166667    163\n",
       "4      2    0.160532    157"
      ]
     },
     "execution_count": 26,
     "metadata": {},
     "output_type": "execute_result"
    }
   ],
   "source": [
    "sample_1[\"score\"].value_counts(normalize=True).reset_index()\\\n",
    ".merge(sample_1[\"score\"].value_counts().reset_index(), on= \"score\")"
   ]
  },
  {
   "cell_type": "code",
   "execution_count": 27,
   "metadata": {},
   "outputs": [
    {
     "data": {
      "application/vnd.microsoft.datawrangler.viewer.v0+json": {
       "columns": [
        {
         "name": "index",
         "rawType": "int64",
         "type": "integer"
        },
        {
         "name": "sentiment",
         "rawType": "int64",
         "type": "integer"
        },
        {
         "name": "proportion",
         "rawType": "float64",
         "type": "float"
        },
        {
         "name": "count",
         "rawType": "int64",
         "type": "integer"
        }
       ],
       "conversionMethod": "pd.DataFrame",
       "ref": "5dfa6b18-f24f-426b-aebb-b518514cc0cb",
       "rows": [
        [
         "0",
         "2",
         "0.36400817995910023",
         "356"
        ],
        [
         "1",
         "0",
         "0.32719836400818",
         "320"
        ],
        [
         "2",
         "1",
         "0.30879345603271985",
         "302"
        ]
       ],
       "shape": {
        "columns": 3,
        "rows": 3
       }
      },
      "text/html": [
       "<div>\n",
       "<style scoped>\n",
       "    .dataframe tbody tr th:only-of-type {\n",
       "        vertical-align: middle;\n",
       "    }\n",
       "\n",
       "    .dataframe tbody tr th {\n",
       "        vertical-align: top;\n",
       "    }\n",
       "\n",
       "    .dataframe thead th {\n",
       "        text-align: right;\n",
       "    }\n",
       "</style>\n",
       "<table border=\"1\" class=\"dataframe\">\n",
       "  <thead>\n",
       "    <tr style=\"text-align: right;\">\n",
       "      <th></th>\n",
       "      <th>sentiment</th>\n",
       "      <th>proportion</th>\n",
       "      <th>count</th>\n",
       "    </tr>\n",
       "  </thead>\n",
       "  <tbody>\n",
       "    <tr>\n",
       "      <th>0</th>\n",
       "      <td>2</td>\n",
       "      <td>0.364008</td>\n",
       "      <td>356</td>\n",
       "    </tr>\n",
       "    <tr>\n",
       "      <th>1</th>\n",
       "      <td>0</td>\n",
       "      <td>0.327198</td>\n",
       "      <td>320</td>\n",
       "    </tr>\n",
       "    <tr>\n",
       "      <th>2</th>\n",
       "      <td>1</td>\n",
       "      <td>0.308793</td>\n",
       "      <td>302</td>\n",
       "    </tr>\n",
       "  </tbody>\n",
       "</table>\n",
       "</div>"
      ],
      "text/plain": [
       "   sentiment  proportion  count\n",
       "0          2    0.364008    356\n",
       "1          0    0.327198    320\n",
       "2          1    0.308793    302"
      ]
     },
     "execution_count": 27,
     "metadata": {},
     "output_type": "execute_result"
    }
   ],
   "source": [
    "sample_1[\"sentiment\"].value_counts(normalize=True).reset_index()\\\n",
    ".merge(sample_1[\"sentiment\"].value_counts().reset_index(), on= \"sentiment\")"
   ]
  },
  {
   "cell_type": "markdown",
   "metadata": {},
   "source": [
    "### 2.2 pricing\n",
    "\n",
    "- for 10% the cost is aprox. USD$17 (9799 reviews)\n",
    "- for 1% the cost is aprox. USD$1.7 (978 reviews)\n"
   ]
  },
  {
   "cell_type": "code",
   "execution_count": 35,
   "metadata": {},
   "outputs": [],
   "source": [
    "from src.utils.ea.exp_funcs import pricing"
   ]
  },
  {
   "cell_type": "code",
   "execution_count": 36,
   "metadata": {},
   "outputs": [
    {
     "data": {
      "application/vnd.microsoft.datawrangler.viewer.v0+json": {
       "columns": [
        {
         "name": "modelo",
         "rawType": "object",
         "type": "string"
        },
        {
         "name": "tokens ($USD)",
         "rawType": "float64",
         "type": "float"
        },
        {
         "name": "lines",
         "rawType": "int64",
         "type": "integer"
        }
       ],
       "conversionMethod": "pd.DataFrame",
       "ref": "8e6c6936-2ec4-4553-8deb-ab65b32343e9",
       "rows": [
        [
         "input_$_gpt_35",
         "0.195767",
         "9799"
        ],
        [
         "input_$_gpt_4",
         "11.74602",
         "9799"
        ],
        [
         "input_$_gpt_4_turbo",
         "3.91534",
         "9799"
        ],
        [
         "input_$_gpt_4o",
         "0.978835",
         "9799"
        ],
        [
         "input_$_gpt_4o-mini",
         "0.0587301",
         "9799"
        ]
       ],
       "shape": {
        "columns": 2,
        "rows": 5
       }
      },
      "text/html": [
       "<div>\n",
       "<style scoped>\n",
       "    .dataframe tbody tr th:only-of-type {\n",
       "        vertical-align: middle;\n",
       "    }\n",
       "\n",
       "    .dataframe tbody tr th {\n",
       "        vertical-align: top;\n",
       "    }\n",
       "\n",
       "    .dataframe thead th {\n",
       "        text-align: right;\n",
       "    }\n",
       "</style>\n",
       "<table border=\"1\" class=\"dataframe\">\n",
       "  <thead>\n",
       "    <tr style=\"text-align: right;\">\n",
       "      <th></th>\n",
       "      <th>tokens ($USD)</th>\n",
       "      <th>lines</th>\n",
       "    </tr>\n",
       "    <tr>\n",
       "      <th>modelo</th>\n",
       "      <th></th>\n",
       "      <th></th>\n",
       "    </tr>\n",
       "  </thead>\n",
       "  <tbody>\n",
       "    <tr>\n",
       "      <th>input_$_gpt_35</th>\n",
       "      <td>0.195767</td>\n",
       "      <td>9799</td>\n",
       "    </tr>\n",
       "    <tr>\n",
       "      <th>input_$_gpt_4</th>\n",
       "      <td>11.746020</td>\n",
       "      <td>9799</td>\n",
       "    </tr>\n",
       "    <tr>\n",
       "      <th>input_$_gpt_4_turbo</th>\n",
       "      <td>3.915340</td>\n",
       "      <td>9799</td>\n",
       "    </tr>\n",
       "    <tr>\n",
       "      <th>input_$_gpt_4o</th>\n",
       "      <td>0.978835</td>\n",
       "      <td>9799</td>\n",
       "    </tr>\n",
       "    <tr>\n",
       "      <th>input_$_gpt_4o-mini</th>\n",
       "      <td>0.058730</td>\n",
       "      <td>9799</td>\n",
       "    </tr>\n",
       "  </tbody>\n",
       "</table>\n",
       "</div>"
      ],
      "text/plain": [
       "                     tokens ($USD)  lines\n",
       "modelo                                   \n",
       "input_$_gpt_35            0.195767   9799\n",
       "input_$_gpt_4            11.746020   9799\n",
       "input_$_gpt_4_turbo       3.915340   9799\n",
       "input_$_gpt_4o            0.978835   9799\n",
       "input_$_gpt_4o-mini       0.058730   9799"
      ]
     },
     "execution_count": 36,
     "metadata": {},
     "output_type": "execute_result"
    }
   ],
   "source": [
    "by_model_10, total_10 = pricing(sample_10)\n",
    "by_model_10"
   ]
  },
  {
   "cell_type": "code",
   "execution_count": 37,
   "metadata": {},
   "outputs": [
    {
     "data": {
      "text/plain": [
       "tokens ($USD)       16.894692\n",
       "lines            48995.000000\n",
       "dtype: float64"
      ]
     },
     "execution_count": 37,
     "metadata": {},
     "output_type": "execute_result"
    }
   ],
   "source": [
    "total_10"
   ]
  },
  {
   "cell_type": "code",
   "execution_count": 38,
   "metadata": {},
   "outputs": [
    {
     "data": {
      "application/vnd.microsoft.datawrangler.viewer.v0+json": {
       "columns": [
        {
         "name": "modelo",
         "rawType": "object",
         "type": "string"
        },
        {
         "name": "tokens ($USD)",
         "rawType": "float64",
         "type": "float"
        },
        {
         "name": "lines",
         "rawType": "int64",
         "type": "integer"
        }
       ],
       "conversionMethod": "pd.DataFrame",
       "ref": "b13a649e-088f-4b9a-bbd6-64435b8cb7bd",
       "rows": [
        [
         "input_$_gpt_35",
         "0.019223",
         "978"
        ],
        [
         "input_$_gpt_4",
         "1.15338",
         "978"
        ],
        [
         "input_$_gpt_4_turbo",
         "0.38446",
         "978"
        ],
        [
         "input_$_gpt_4o",
         "0.096115",
         "978"
        ],
        [
         "input_$_gpt_4o-mini",
         "0.0057669",
         "978"
        ]
       ],
       "shape": {
        "columns": 2,
        "rows": 5
       }
      },
      "text/html": [
       "<div>\n",
       "<style scoped>\n",
       "    .dataframe tbody tr th:only-of-type {\n",
       "        vertical-align: middle;\n",
       "    }\n",
       "\n",
       "    .dataframe tbody tr th {\n",
       "        vertical-align: top;\n",
       "    }\n",
       "\n",
       "    .dataframe thead th {\n",
       "        text-align: right;\n",
       "    }\n",
       "</style>\n",
       "<table border=\"1\" class=\"dataframe\">\n",
       "  <thead>\n",
       "    <tr style=\"text-align: right;\">\n",
       "      <th></th>\n",
       "      <th>tokens ($USD)</th>\n",
       "      <th>lines</th>\n",
       "    </tr>\n",
       "    <tr>\n",
       "      <th>modelo</th>\n",
       "      <th></th>\n",
       "      <th></th>\n",
       "    </tr>\n",
       "  </thead>\n",
       "  <tbody>\n",
       "    <tr>\n",
       "      <th>input_$_gpt_35</th>\n",
       "      <td>0.019223</td>\n",
       "      <td>978</td>\n",
       "    </tr>\n",
       "    <tr>\n",
       "      <th>input_$_gpt_4</th>\n",
       "      <td>1.153380</td>\n",
       "      <td>978</td>\n",
       "    </tr>\n",
       "    <tr>\n",
       "      <th>input_$_gpt_4_turbo</th>\n",
       "      <td>0.384460</td>\n",
       "      <td>978</td>\n",
       "    </tr>\n",
       "    <tr>\n",
       "      <th>input_$_gpt_4o</th>\n",
       "      <td>0.096115</td>\n",
       "      <td>978</td>\n",
       "    </tr>\n",
       "    <tr>\n",
       "      <th>input_$_gpt_4o-mini</th>\n",
       "      <td>0.005767</td>\n",
       "      <td>978</td>\n",
       "    </tr>\n",
       "  </tbody>\n",
       "</table>\n",
       "</div>"
      ],
      "text/plain": [
       "                     tokens ($USD)  lines\n",
       "modelo                                   \n",
       "input_$_gpt_35            0.019223    978\n",
       "input_$_gpt_4             1.153380    978\n",
       "input_$_gpt_4_turbo       0.384460    978\n",
       "input_$_gpt_4o            0.096115    978\n",
       "input_$_gpt_4o-mini       0.005767    978"
      ]
     },
     "execution_count": 38,
     "metadata": {},
     "output_type": "execute_result"
    }
   ],
   "source": [
    "by_model_1, total_1 = pricing(sample_1)\n",
    "by_model_1"
   ]
  },
  {
   "cell_type": "code",
   "execution_count": 39,
   "metadata": {},
   "outputs": [
    {
     "data": {
      "text/plain": [
       "tokens ($USD)       1.658945\n",
       "lines            4890.000000\n",
       "dtype: float64"
      ]
     },
     "execution_count": 39,
     "metadata": {},
     "output_type": "execute_result"
    }
   ],
   "source": [
    "total_1"
   ]
  },
  {
   "cell_type": "markdown",
   "metadata": {},
   "source": [
    "### 2.3 Save"
   ]
  },
  {
   "cell_type": "code",
   "execution_count": 40,
   "metadata": {},
   "outputs": [],
   "source": [
    "sample_10.to_parquet(\"./../Dados/sample_10_Meli.parquet\", index=False)"
   ]
  },
  {
   "cell_type": "code",
   "execution_count": 41,
   "metadata": {},
   "outputs": [],
   "source": [
    "sample_1.to_parquet(\"./../Dados/sample_1_Meli.parquet\", index=False)"
   ]
  },
  {
   "cell_type": "code",
   "execution_count": null,
   "metadata": {},
   "outputs": [],
   "source": []
  },
  {
   "cell_type": "code",
   "execution_count": null,
   "metadata": {},
   "outputs": [],
   "source": []
  }
 ],
 "metadata": {
  "kernelspec": {
   "display_name": ".venv",
   "language": "python",
   "name": "python3"
  },
  "language_info": {
   "codemirror_mode": {
    "name": "ipython",
    "version": 3
   },
   "file_extension": ".py",
   "mimetype": "text/x-python",
   "name": "python",
   "nbconvert_exporter": "python",
   "pygments_lexer": "ipython3",
   "version": "3.11.0"
  }
 },
 "nbformat": 4,
 "nbformat_minor": 2
}
